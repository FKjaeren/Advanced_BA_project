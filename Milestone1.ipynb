{
 "cells": [
  {
   "cell_type": "markdown",
   "metadata": {},
   "source": [
    "#### Milestone 1\n",
    "\n",
    "The story of our project: \n",
    "We are a media agency that will give amazon insight into which products they have in their inventory that have the most pull with their customers. And thus if they are going to go out and make an advertisement, which products should they then highlight (food and groceries). \n",
    "\n",
    "In addition, we will optimize their current products, by optimizing some of their most-selling products which get poor reviews / ratings.\n",
    "\n",
    "We will do this by finding “good” features, and try to recommend Amazon to incorporate these features in this product."
   ]
  },
  {
   "cell_type": "code",
   "execution_count": 7,
   "metadata": {},
   "outputs": [],
   "source": [
    "### Load packages\n",
    "import pandas as pd\n",
    "import seaborn as sns\n",
    "import pandas as pd\n",
    "\n",
    "### Import raw data\n",
    "def load_data(rating_filepath, review_filepath, meta_rating_filepath, meta_review_filepath):\n",
    "    ratings_df = pd.read_csv(rating_filepath, names = ['item','user','rating','timestamp'])\n",
    "    reviews_df = pd.read_json(review_filepath, lines=True)\n",
    "    meta_rating_df = pd.read_json(meta_rating_filepath, lines=True)\n",
    "    meta_reviews_df = pd.read_json(meta_review_filepath, lines=True)\n",
    "    return ratings_df, reviews_df, meta_rating_df, meta_reviews_df\n"
   ]
  },
  {
   "cell_type": "code",
   "execution_count": 8,
   "metadata": {},
   "outputs": [],
   "source": [
    "def preprocess_data(ratings_df, reviews_df):\n",
    "    # create timestamps\n",
    "    ratings_df['timestamp'] = pd.to_datetime(ratings_df['timestamp'], origin = 'unix', unit = 's')\n",
    "    reviews_df['timestamp'] = pd.to_datetime(reviews_df['unixReviewTime'], origin = 'unix', unit = 's')\n",
    "\n",
    "    # drop columns in reviews\n",
    "    reviews_df = reviews_df.drop(columns=['unixReviewTime','reviewTime','reviewerName','vote','image','style','verified'])\n",
    "\n",
    "    return ratings_df, reviews_df\n",
    "\n",
    "# rating_filepath = 'data/Grocery_and_Gourmet_Food.csv'\n",
    "# review_filepath = 'data/Grocery_and_Gourmet_Food_5.json'\n",
    "\n",
    "# meta_rating_filepath = 'data/Grocery_and_Gourmet_Food.json'\n",
    "# meta_review_filepath = 'data/meta_Grocery_and_Gourmet_Food.json'\n",
    "\n",
    "#raw_ratings, raw_reviews, raw_meta_ratings, raw_meta_reviews = load_data(rating_filepath, review_filepath, meta_rating_filepath, meta_review_filepath)\n",
    "\n",
    "# rating ['item', 'user', 'rating', 'timestamp']\n",
    "# review ['overall','reviewerID','asin','reviewText','summary','timestamp]\n",
    "#ratings_df, reviews_df = preprocess_data(raw_ratings, raw_reviews)\n"
   ]
  }
 ],
 "metadata": {
  "interpreter": {
   "hash": "fd10ce66b02ffab33161025f9ce872921483e68578b0c421a37b8bec3f5cf27b"
  },
  "kernelspec": {
   "display_name": "Python 3.8.12 64-bit ('BA': conda)",
   "name": "python3812jvsc74a57bd02d45b184501721afdaf308c0e19a11b5a6bc7506660baeaf0fca16878e4c77d3"
  },
  "language_info": {
   "codemirror_mode": {
    "name": "ipython",
    "version": 3
   },
   "file_extension": ".py",
   "mimetype": "text/x-python",
   "name": "python",
   "nbconvert_exporter": "python",
   "pygments_lexer": "ipython3",
   "version": "3.8.12"
  },
  "metadata": {
   "interpreter": {
    "hash": "2d45b184501721afdaf308c0e19a11b5a6bc7506660baeaf0fca16878e4c77d3"
   }
  },
  "orig_nbformat": 4
 },
 "nbformat": 4,
 "nbformat_minor": 2
}